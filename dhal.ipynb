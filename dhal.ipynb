{
 "cells": [
  {
   "cell_type": "code",
   "execution_count": 12,
   "metadata": {
    "collapsed": false
   },
   "outputs": [],
   "source": [
    "import os\n",
    "import sys\n",
    "import re\n",
    "import urllib\n",
    "import urlparse\n",
    " \n",
    "from mechanize import Browser\n",
    "from BeautifulSoup import BeautifulSoup\n",
    " \n",
    "class MyOpener(urllib.FancyURLopener):\n",
    "    version = 'Mozilla/5.0 (Windows; U; Windows NT 6.1; en-US; rv:1.9.2.15) Gecko/20110303 Firefox/3.6.15'\n",
    " \n"
   ]
  },
  {
   "cell_type": "code",
   "execution_count": 13,
   "metadata": {
    "collapsed": true
   },
   "outputs": [],
   "source": [
    "class ImdbRating:\n",
    "    title = None\n",
    "    url = None\n",
    "    rating = None\n",
    "    found = False\n",
    " \n",
    "\n",
    "    BASE_URL = 'http://www.imdb.com'\n",
    " \n",
    "    def __init__(self, title):\n",
    "        self.title = title\n",
    "        self._process()\n",
    " \n",
    "    def _process(self):\n",
    "        movie = '+'.join(self.title.split())\n",
    "        br = Browser()\n",
    "        url = \"%s/find?s=tt&q=%s\" % (self.BASE_URL, movie)\n",
    "        br.open(url)\n",
    " \n",
    "        if re.search(r'/title/tt.*', br.geturl()):\n",
    "            self.url = \"%s://%s%s\" % urlparse.urlparse(br.geturl())[:3]\n",
    "            soup = BeautifulSoup( MyOpener().open(url).read() )\n",
    "        else:\n",
    "            link = br.find_link(url_regex = re.compile(r'/title/tt.*'))\n",
    "            res = br.follow_link(link)\n",
    "            self.url = urlparse.urljoin(self.BASE_URL, link.url)\n",
    "            soup = BeautifulSoup(res.read())\n",
    " \n",
    "        try:\n",
    "            self.title = soup.find('h1').contents[0].strip()\n",
    "            self.rating = soup.find('span',attrs='rating-rating').contents[0]\n",
    "            self.found = True\n",
    "        except:\n",
    "            pass\n",
    " \n"
   ]
  },
  {
   "cell_type": "code",
   "execution_count": 14,
   "metadata": {
    "collapsed": false
   },
   "outputs": [
    {
     "name": "stdout",
     "output_type": "stream",
     "text": [
      "http://www.imdb.com/title/tt4326894/?ref_=fn_tt_tt_1\n",
      "F is for Family&nbsp;\n",
      "<span class=\"value\">8.5</span>\n"
     ]
    }
   ],
   "source": [
    "if __name__ == \"__main__\":\n",
    "    if len(sys.argv) == 1:\n",
    "        print \"Usage: %s 'Movie title'\" % (sys.argv[0])\n",
    "    else:\n",
    "        imdb = ImdbRating(sys.argv[1])\n",
    "        if imdb.found:\n",
    "            print imdb.url\n",
    "            print imdb.title\n",
    "            print imdb.rating"
   ]
  }
 ],
 "metadata": {
  "anaconda-cloud": {},
  "kernelspec": {
   "display_name": "Python 2",
   "language": "python",
   "name": "python2"
  },
  "language_info": {
   "codemirror_mode": {
    "name": "ipython",
    "version": 2
   },
   "file_extension": ".py",
   "mimetype": "text/x-python",
   "name": "python",
   "nbconvert_exporter": "python",
   "pygments_lexer": "ipython2",
   "version": "2.7.12"
  }
 },
 "nbformat": 4,
 "nbformat_minor": 0
}
